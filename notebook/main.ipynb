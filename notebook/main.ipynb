{
 "cells": [
  {
   "cell_type": "code",
   "execution_count": 34,
   "id": "42986303",
   "metadata": {},
   "outputs": [],
   "source": [
    "import sys\n",
    "from pathlib import Path\n",
    "\n",
    "import pandas as pd\n",
    "\n",
    "sys.path.append(str(Path().cwd().parent))\n",
    "\n",
    "from src.schema.config import Config\n",
    "\n",
    "pd.options.display.max_columns = 100"
   ]
  },
  {
   "cell_type": "code",
   "execution_count": 9,
   "id": "a9a5e975",
   "metadata": {},
   "outputs": [],
   "source": [
    "cfg = Config.load(Path().cwd().parent.joinpath(\"conf\", \"config.yaml\"))\n",
    "\n",
    "past_start_date = pd.to_datetime(cfg.data.past_start_date)\n",
    "past_end_date = pd.to_datetime(cfg.data.past_end_date)\n",
    "train_start_date = pd.to_datetime(cfg.data.train_start_date)\n",
    "train_end_date = pd.to_datetime(cfg.data.train_end_date)\n",
    "val_start_date = pd.to_datetime(cfg.data.val_start_date)\n",
    "val_end_date = pd.to_datetime(cfg.data.val_end_date)\n",
    "test_start_date = pd.to_datetime(cfg.data.test_start_date)\n",
    "test_end_date = pd.to_datetime(cfg.data.test_end_date)\n",
    "\n",
    "filtered_chunks = []\n",
    "transactions_path = Path().cwd().parent.joinpath(cfg.data.transactions_path)\n",
    "for chunk in pd.read_csv(transactions_path, chunksize=cfg.data.chunksize):\n",
    "    chunk[\"t_dat\"] = pd.to_datetime(chunk[\"t_dat\"])\n",
    "    filtered_chunk = chunk.loc[\n",
    "        (past_start_date <= chunk[\"t_dat\"]) & (chunk[\"t_dat\"] <= test_end_date)\n",
    "    ]\n",
    "    if not filtered_chunk.empty:\n",
    "        filtered_chunks.append(filtered_chunk)\n",
    "trans_df = pd.concat(filtered_chunks)\n",
    "all_customers = trans_df[\"customer_id\"].unique()\n",
    "all_articles = trans_df[\"article_id\"].unique()\n",
    "\n",
    "filtered_chunks = []\n",
    "customers_path = Path().cwd().parent.joinpath(cfg.data.customers_path)\n",
    "for chunk in pd.read_csv(customers_path, chunksize=cfg.data.chunksize):\n",
    "    filtered_chunk = chunk.loc[chunk[\"customer_id\"].isin(all_customers)]\n",
    "    if not filtered_chunk.empty:\n",
    "        filtered_chunks.append(filtered_chunk)\n",
    "customer_df = pd.concat(filtered_chunks)\n",
    "\n",
    "filtered_chunks = []\n",
    "articles_path = Path().cwd().parent.joinpath(cfg.data.articles_path)\n",
    "for chunk in pd.read_csv(articles_path, chunksize=cfg.data.chunksize):\n",
    "    filtered_chunk = chunk.loc[chunk[\"article_id\"].isin(all_articles)]\n",
    "    if not filtered_chunk.empty:\n",
    "        filtered_chunks.append(filtered_chunk)\n",
    "article_df = pd.concat(filtered_chunks)"
   ]
  },
  {
   "cell_type": "markdown",
   "id": "34690fc9",
   "metadata": {},
   "source": [
    "# customer"
   ]
  },
  {
   "cell_type": "code",
   "execution_count": 13,
   "id": "e90f0051",
   "metadata": {},
   "outputs": [
    {
     "data": {
      "text/html": [
       "<div>\n",
       "<style scoped>\n",
       "    .dataframe tbody tr th:only-of-type {\n",
       "        vertical-align: middle;\n",
       "    }\n",
       "\n",
       "    .dataframe tbody tr th {\n",
       "        vertical-align: top;\n",
       "    }\n",
       "\n",
       "    .dataframe thead th {\n",
       "        text-align: right;\n",
       "    }\n",
       "</style>\n",
       "<table border=\"1\" class=\"dataframe\">\n",
       "  <thead>\n",
       "    <tr style=\"text-align: right;\">\n",
       "      <th></th>\n",
       "      <th>customer_id</th>\n",
       "      <th>FN</th>\n",
       "      <th>Active</th>\n",
       "      <th>club_member_status</th>\n",
       "      <th>fashion_news_frequency</th>\n",
       "      <th>age</th>\n",
       "      <th>postal_code</th>\n",
       "    </tr>\n",
       "  </thead>\n",
       "  <tbody>\n",
       "    <tr>\n",
       "      <th>0</th>\n",
       "      <td>00000dbacae5abe5e23885899a1fa44253a17956c6d1c3...</td>\n",
       "      <td>NaN</td>\n",
       "      <td>NaN</td>\n",
       "      <td>ACTIVE</td>\n",
       "      <td>NONE</td>\n",
       "      <td>49.0</td>\n",
       "      <td>52043ee2162cf5aa7ee79974281641c6f11a68d276429a...</td>\n",
       "    </tr>\n",
       "    <tr>\n",
       "      <th>30</th>\n",
       "      <td>000172a9c322560c849754ffbdfdb2180d408aa7176b94...</td>\n",
       "      <td>NaN</td>\n",
       "      <td>NaN</td>\n",
       "      <td>ACTIVE</td>\n",
       "      <td>NONE</td>\n",
       "      <td>45.0</td>\n",
       "      <td>4ca377c955c160866d5662b33aa1af44d54d4342fb8bfa...</td>\n",
       "    </tr>\n",
       "    <tr>\n",
       "      <th>38</th>\n",
       "      <td>0001d44dbe7f6c4b35200abdb052c77a87596fe1bdcc37...</td>\n",
       "      <td>1.0</td>\n",
       "      <td>1.0</td>\n",
       "      <td>ACTIVE</td>\n",
       "      <td>Regularly</td>\n",
       "      <td>44.0</td>\n",
       "      <td>930b19ae7db8abb5a27f4da10217755a7305b4c452f5e0...</td>\n",
       "    </tr>\n",
       "    <tr>\n",
       "      <th>86</th>\n",
       "      <td>0003e867a930d0d6842f923d6ba7c9b77aba33fe2a0fbf...</td>\n",
       "      <td>1.0</td>\n",
       "      <td>1.0</td>\n",
       "      <td>ACTIVE</td>\n",
       "      <td>Regularly</td>\n",
       "      <td>33.0</td>\n",
       "      <td>d647e4ede3d0eb4ce0750440a110350b5f4c758165d89d...</td>\n",
       "    </tr>\n",
       "    <tr>\n",
       "      <th>121</th>\n",
       "      <td>0005340aa69bb5a28d98712a36d8f669024bce137e3c82...</td>\n",
       "      <td>NaN</td>\n",
       "      <td>NaN</td>\n",
       "      <td>ACTIVE</td>\n",
       "      <td>NONE</td>\n",
       "      <td>21.0</td>\n",
       "      <td>2c29ae653a9282cce4151bd87643c907644e09541abc28...</td>\n",
       "    </tr>\n",
       "  </tbody>\n",
       "</table>\n",
       "</div>"
      ],
      "text/plain": [
       "                                           customer_id   FN  Active  \\\n",
       "0    00000dbacae5abe5e23885899a1fa44253a17956c6d1c3...  NaN     NaN   \n",
       "30   000172a9c322560c849754ffbdfdb2180d408aa7176b94...  NaN     NaN   \n",
       "38   0001d44dbe7f6c4b35200abdb052c77a87596fe1bdcc37...  1.0     1.0   \n",
       "86   0003e867a930d0d6842f923d6ba7c9b77aba33fe2a0fbf...  1.0     1.0   \n",
       "121  0005340aa69bb5a28d98712a36d8f669024bce137e3c82...  NaN     NaN   \n",
       "\n",
       "    club_member_status fashion_news_frequency   age  \\\n",
       "0               ACTIVE                   NONE  49.0   \n",
       "30              ACTIVE                   NONE  45.0   \n",
       "38              ACTIVE              Regularly  44.0   \n",
       "86              ACTIVE              Regularly  33.0   \n",
       "121             ACTIVE                   NONE  21.0   \n",
       "\n",
       "                                           postal_code  \n",
       "0    52043ee2162cf5aa7ee79974281641c6f11a68d276429a...  \n",
       "30   4ca377c955c160866d5662b33aa1af44d54d4342fb8bfa...  \n",
       "38   930b19ae7db8abb5a27f4da10217755a7305b4c452f5e0...  \n",
       "86   d647e4ede3d0eb4ce0750440a110350b5f4c758165d89d...  \n",
       "121  2c29ae653a9282cce4151bd87643c907644e09541abc28...  "
      ]
     },
     "execution_count": 13,
     "metadata": {},
     "output_type": "execute_result"
    }
   ],
   "source": [
    "customer_df.head()"
   ]
  },
  {
   "cell_type": "code",
   "execution_count": 14,
   "id": "0af46177",
   "metadata": {},
   "outputs": [
    {
     "data": {
      "text/plain": [
       "True"
      ]
     },
     "execution_count": 14,
     "metadata": {},
     "output_type": "execute_result"
    }
   ],
   "source": [
    "customer_df[\"customer_id\"].nunique() == len(customer_df)"
   ]
  },
  {
   "cell_type": "code",
   "execution_count": 17,
   "id": "5706c5f1",
   "metadata": {},
   "outputs": [
    {
     "data": {
      "text/plain": [
       "FN\n",
       "NaN    31407\n",
       "1.0    26241\n",
       "Name: count, dtype: int64"
      ]
     },
     "execution_count": 17,
     "metadata": {},
     "output_type": "execute_result"
    }
   ],
   "source": [
    "customer_df[\"FN\"].value_counts(dropna=False)"
   ]
  },
  {
   "cell_type": "code",
   "execution_count": 18,
   "id": "f164aa48",
   "metadata": {},
   "outputs": [
    {
     "data": {
      "text/plain": [
       "Active\n",
       "NaN    31785\n",
       "1.0    25863\n",
       "Name: count, dtype: int64"
      ]
     },
     "execution_count": 18,
     "metadata": {},
     "output_type": "execute_result"
    }
   ],
   "source": [
    "customer_df[\"Active\"].value_counts(dropna=False)"
   ]
  },
  {
   "cell_type": "code",
   "execution_count": 19,
   "id": "10fcfc1e",
   "metadata": {},
   "outputs": [
    {
     "data": {
      "text/plain": [
       "fashion_news_frequency\n",
       "NONE         31188\n",
       "Regularly    26293\n",
       "NaN            154\n",
       "Monthly         13\n",
       "Name: count, dtype: int64"
      ]
     },
     "execution_count": 19,
     "metadata": {},
     "output_type": "execute_result"
    }
   ],
   "source": [
    "customer_df[\"fashion_news_frequency\"].value_counts(dropna=False)"
   ]
  },
  {
   "cell_type": "code",
   "execution_count": 20,
   "id": "c9813aee",
   "metadata": {},
   "outputs": [
    {
     "data": {
      "text/plain": [
       "count    57390.000000\n",
       "mean        35.713312\n",
       "std         13.919815\n",
       "min         16.000000\n",
       "25%         24.000000\n",
       "50%         31.000000\n",
       "75%         48.000000\n",
       "max         95.000000\n",
       "Name: age, dtype: float64"
      ]
     },
     "execution_count": 20,
     "metadata": {},
     "output_type": "execute_result"
    }
   ],
   "source": [
    "customer_df[\"age\"].describe()"
   ]
  },
  {
   "cell_type": "code",
   "execution_count": 26,
   "id": "24a8b6a9",
   "metadata": {},
   "outputs": [
    {
     "data": {
      "text/plain": [
       "postal_code\n",
       "2c29ae653a9282cce4151bd87643c907644e09541abc28ae87dea0d1f6603b1c    1541\n",
       "9d5787501bf1c77592156ba51eab13f4a2670c807686431a9e22a69090b02358      12\n",
       "7c1fa3b0ec1d37ce2c3f34f63bd792f3b4494f324b6be5d1e4ba6a75456b96a7      12\n",
       "1f5bd429acc88fbbf24de844a59e438704aa8761bc7b99fd977cad297c50b74c      12\n",
       "1cffd42ab4bd892f8688dff5b7e76946fc799bc8c18804e458a8d64f03407819       9\n",
       "                                                                    ... \n",
       "2513b55ec9e613c786ed96342b8245c92c473b7d8d4359d51462c3284e46c7a2       1\n",
       "fab3ea41b83def28f9af4943837bf2df9ba9b762d331568784486f0c56b7f06c       1\n",
       "83775088d6017bf61875222c4129f4bdc32495f6aef2bb739345362a2348ca63       1\n",
       "e903a625fa75fa15feb6e4f3a7a880b74c5c8056096518f9361cb1e864331f47       1\n",
       "d124e4680386b47d0b969a2d1f7e4e808c233444dc515ce202b6d4b2332d38bf       1\n",
       "Name: count, Length: 49320, dtype: int64"
      ]
     },
     "execution_count": 26,
     "metadata": {},
     "output_type": "execute_result"
    }
   ],
   "source": [
    "customer_df[\"postal_code\"].value_counts()"
   ]
  },
  {
   "cell_type": "code",
   "execution_count": 27,
   "id": "02e40c19",
   "metadata": {},
   "outputs": [
    {
     "data": {
      "text/plain": [
       "57648"
      ]
     },
     "execution_count": 27,
     "metadata": {},
     "output_type": "execute_result"
    }
   ],
   "source": [
    "len(customer_df)"
   ]
  },
  {
   "cell_type": "markdown",
   "id": "7d0ad647",
   "metadata": {},
   "source": [
    "# article"
   ]
  },
  {
   "cell_type": "code",
   "execution_count": 35,
   "id": "1ed82216",
   "metadata": {},
   "outputs": [
    {
     "data": {
      "text/html": [
       "<div>\n",
       "<style scoped>\n",
       "    .dataframe tbody tr th:only-of-type {\n",
       "        vertical-align: middle;\n",
       "    }\n",
       "\n",
       "    .dataframe tbody tr th {\n",
       "        vertical-align: top;\n",
       "    }\n",
       "\n",
       "    .dataframe thead th {\n",
       "        text-align: right;\n",
       "    }\n",
       "</style>\n",
       "<table border=\"1\" class=\"dataframe\">\n",
       "  <thead>\n",
       "    <tr style=\"text-align: right;\">\n",
       "      <th></th>\n",
       "      <th>article_id</th>\n",
       "      <th>product_code</th>\n",
       "      <th>prod_name</th>\n",
       "      <th>product_type_no</th>\n",
       "      <th>product_type_name</th>\n",
       "      <th>product_group_name</th>\n",
       "      <th>graphical_appearance_no</th>\n",
       "      <th>graphical_appearance_name</th>\n",
       "      <th>colour_group_code</th>\n",
       "      <th>colour_group_name</th>\n",
       "      <th>perceived_colour_value_id</th>\n",
       "      <th>perceived_colour_value_name</th>\n",
       "      <th>perceived_colour_master_id</th>\n",
       "      <th>perceived_colour_master_name</th>\n",
       "      <th>department_no</th>\n",
       "      <th>department_name</th>\n",
       "      <th>index_code</th>\n",
       "      <th>index_name</th>\n",
       "      <th>index_group_no</th>\n",
       "      <th>index_group_name</th>\n",
       "      <th>section_no</th>\n",
       "      <th>section_name</th>\n",
       "      <th>garment_group_no</th>\n",
       "      <th>garment_group_name</th>\n",
       "      <th>detail_desc</th>\n",
       "    </tr>\n",
       "  </thead>\n",
       "  <tbody>\n",
       "    <tr>\n",
       "      <th>1</th>\n",
       "      <td>108775044</td>\n",
       "      <td>108775</td>\n",
       "      <td>Strap top</td>\n",
       "      <td>253</td>\n",
       "      <td>Vest top</td>\n",
       "      <td>Garment Upper body</td>\n",
       "      <td>1010016</td>\n",
       "      <td>Solid</td>\n",
       "      <td>10</td>\n",
       "      <td>White</td>\n",
       "      <td>3</td>\n",
       "      <td>Light</td>\n",
       "      <td>9</td>\n",
       "      <td>White</td>\n",
       "      <td>1676</td>\n",
       "      <td>Jersey Basic</td>\n",
       "      <td>A</td>\n",
       "      <td>Ladieswear</td>\n",
       "      <td>1</td>\n",
       "      <td>Ladieswear</td>\n",
       "      <td>16</td>\n",
       "      <td>Womens Everyday Basics</td>\n",
       "      <td>1002</td>\n",
       "      <td>Jersey Basic</td>\n",
       "      <td>Jersey top with narrow shoulder straps.</td>\n",
       "    </tr>\n",
       "    <tr>\n",
       "      <th>6</th>\n",
       "      <td>111565001</td>\n",
       "      <td>111565</td>\n",
       "      <td>20 den 1p Stockings</td>\n",
       "      <td>304</td>\n",
       "      <td>Underwear Tights</td>\n",
       "      <td>Socks &amp; Tights</td>\n",
       "      <td>1010016</td>\n",
       "      <td>Solid</td>\n",
       "      <td>9</td>\n",
       "      <td>Black</td>\n",
       "      <td>4</td>\n",
       "      <td>Dark</td>\n",
       "      <td>5</td>\n",
       "      <td>Black</td>\n",
       "      <td>3608</td>\n",
       "      <td>Tights basic</td>\n",
       "      <td>B</td>\n",
       "      <td>Lingeries/Tights</td>\n",
       "      <td>1</td>\n",
       "      <td>Ladieswear</td>\n",
       "      <td>62</td>\n",
       "      <td>Womens Nightwear, Socks &amp; Tigh</td>\n",
       "      <td>1021</td>\n",
       "      <td>Socks and Tights</td>\n",
       "      <td>Semi shiny nylon stockings with a wide, reinfo...</td>\n",
       "    </tr>\n",
       "    <tr>\n",
       "      <th>8</th>\n",
       "      <td>111586001</td>\n",
       "      <td>111586</td>\n",
       "      <td>Shape Up 30 den 1p Tights</td>\n",
       "      <td>273</td>\n",
       "      <td>Leggings/Tights</td>\n",
       "      <td>Garment Lower body</td>\n",
       "      <td>1010016</td>\n",
       "      <td>Solid</td>\n",
       "      <td>9</td>\n",
       "      <td>Black</td>\n",
       "      <td>4</td>\n",
       "      <td>Dark</td>\n",
       "      <td>5</td>\n",
       "      <td>Black</td>\n",
       "      <td>3608</td>\n",
       "      <td>Tights basic</td>\n",
       "      <td>B</td>\n",
       "      <td>Lingeries/Tights</td>\n",
       "      <td>1</td>\n",
       "      <td>Ladieswear</td>\n",
       "      <td>62</td>\n",
       "      <td>Womens Nightwear, Socks &amp; Tigh</td>\n",
       "      <td>1021</td>\n",
       "      <td>Socks and Tights</td>\n",
       "      <td>Tights with built-in support to lift the botto...</td>\n",
       "    </tr>\n",
       "    <tr>\n",
       "      <th>9</th>\n",
       "      <td>111593001</td>\n",
       "      <td>111593</td>\n",
       "      <td>Support 40 den 1p Tights</td>\n",
       "      <td>304</td>\n",
       "      <td>Underwear Tights</td>\n",
       "      <td>Socks &amp; Tights</td>\n",
       "      <td>1010016</td>\n",
       "      <td>Solid</td>\n",
       "      <td>9</td>\n",
       "      <td>Black</td>\n",
       "      <td>4</td>\n",
       "      <td>Dark</td>\n",
       "      <td>5</td>\n",
       "      <td>Black</td>\n",
       "      <td>3608</td>\n",
       "      <td>Tights basic</td>\n",
       "      <td>B</td>\n",
       "      <td>Lingeries/Tights</td>\n",
       "      <td>1</td>\n",
       "      <td>Ladieswear</td>\n",
       "      <td>62</td>\n",
       "      <td>Womens Nightwear, Socks &amp; Tigh</td>\n",
       "      <td>1021</td>\n",
       "      <td>Socks and Tights</td>\n",
       "      <td>Semi shiny tights that shape the tummy, thighs...</td>\n",
       "    </tr>\n",
       "    <tr>\n",
       "      <th>10</th>\n",
       "      <td>111609001</td>\n",
       "      <td>111609</td>\n",
       "      <td>200 den 1p Tights</td>\n",
       "      <td>304</td>\n",
       "      <td>Underwear Tights</td>\n",
       "      <td>Socks &amp; Tights</td>\n",
       "      <td>1010016</td>\n",
       "      <td>Solid</td>\n",
       "      <td>9</td>\n",
       "      <td>Black</td>\n",
       "      <td>4</td>\n",
       "      <td>Dark</td>\n",
       "      <td>5</td>\n",
       "      <td>Black</td>\n",
       "      <td>3608</td>\n",
       "      <td>Tights basic</td>\n",
       "      <td>B</td>\n",
       "      <td>Lingeries/Tights</td>\n",
       "      <td>1</td>\n",
       "      <td>Ladieswear</td>\n",
       "      <td>62</td>\n",
       "      <td>Womens Nightwear, Socks &amp; Tigh</td>\n",
       "      <td>1021</td>\n",
       "      <td>Socks and Tights</td>\n",
       "      <td>Opaque matt tights. 200 denier.</td>\n",
       "    </tr>\n",
       "  </tbody>\n",
       "</table>\n",
       "</div>"
      ],
      "text/plain": [
       "    article_id  product_code                  prod_name  product_type_no  \\\n",
       "1    108775044        108775                  Strap top              253   \n",
       "6    111565001        111565        20 den 1p Stockings              304   \n",
       "8    111586001        111586  Shape Up 30 den 1p Tights              273   \n",
       "9    111593001        111593   Support 40 den 1p Tights              304   \n",
       "10   111609001        111609          200 den 1p Tights              304   \n",
       "\n",
       "   product_type_name  product_group_name  graphical_appearance_no  \\\n",
       "1           Vest top  Garment Upper body                  1010016   \n",
       "6   Underwear Tights      Socks & Tights                  1010016   \n",
       "8    Leggings/Tights  Garment Lower body                  1010016   \n",
       "9   Underwear Tights      Socks & Tights                  1010016   \n",
       "10  Underwear Tights      Socks & Tights                  1010016   \n",
       "\n",
       "   graphical_appearance_name  colour_group_code colour_group_name  \\\n",
       "1                      Solid                 10             White   \n",
       "6                      Solid                  9             Black   \n",
       "8                      Solid                  9             Black   \n",
       "9                      Solid                  9             Black   \n",
       "10                     Solid                  9             Black   \n",
       "\n",
       "    perceived_colour_value_id perceived_colour_value_name  \\\n",
       "1                           3                       Light   \n",
       "6                           4                        Dark   \n",
       "8                           4                        Dark   \n",
       "9                           4                        Dark   \n",
       "10                          4                        Dark   \n",
       "\n",
       "    perceived_colour_master_id perceived_colour_master_name  department_no  \\\n",
       "1                            9                        White           1676   \n",
       "6                            5                        Black           3608   \n",
       "8                            5                        Black           3608   \n",
       "9                            5                        Black           3608   \n",
       "10                           5                        Black           3608   \n",
       "\n",
       "   department_name index_code        index_name  index_group_no  \\\n",
       "1     Jersey Basic          A        Ladieswear               1   \n",
       "6     Tights basic          B  Lingeries/Tights               1   \n",
       "8     Tights basic          B  Lingeries/Tights               1   \n",
       "9     Tights basic          B  Lingeries/Tights               1   \n",
       "10    Tights basic          B  Lingeries/Tights               1   \n",
       "\n",
       "   index_group_name  section_no                    section_name  \\\n",
       "1        Ladieswear          16          Womens Everyday Basics   \n",
       "6        Ladieswear          62  Womens Nightwear, Socks & Tigh   \n",
       "8        Ladieswear          62  Womens Nightwear, Socks & Tigh   \n",
       "9        Ladieswear          62  Womens Nightwear, Socks & Tigh   \n",
       "10       Ladieswear          62  Womens Nightwear, Socks & Tigh   \n",
       "\n",
       "    garment_group_no garment_group_name  \\\n",
       "1               1002       Jersey Basic   \n",
       "6               1021   Socks and Tights   \n",
       "8               1021   Socks and Tights   \n",
       "9               1021   Socks and Tights   \n",
       "10              1021   Socks and Tights   \n",
       "\n",
       "                                          detail_desc  \n",
       "1             Jersey top with narrow shoulder straps.  \n",
       "6   Semi shiny nylon stockings with a wide, reinfo...  \n",
       "8   Tights with built-in support to lift the botto...  \n",
       "9   Semi shiny tights that shape the tummy, thighs...  \n",
       "10                    Opaque matt tights. 200 denier.  "
      ]
     },
     "execution_count": 35,
     "metadata": {},
     "output_type": "execute_result"
    }
   ],
   "source": [
    "article_df.head()"
   ]
  },
  {
   "cell_type": "code",
   "execution_count": 2,
   "id": "d129e073",
   "metadata": {},
   "outputs": [
    {
     "ename": "NameError",
     "evalue": "name 'article_df' is not defined",
     "output_type": "error",
     "traceback": [
      "\u001b[31m---------------------------------------------------------------------------\u001b[39m",
      "\u001b[31mNameError\u001b[39m                                 Traceback (most recent call last)",
      "\u001b[36mCell\u001b[39m\u001b[36m \u001b[39m\u001b[32mIn[2]\u001b[39m\u001b[32m, line 1\u001b[39m\n\u001b[32m----> \u001b[39m\u001b[32m1\u001b[39m \u001b[43marticle_df\u001b[49m[\u001b[33m\"\u001b[39m\u001b[33mproduct_group_name\u001b[39m\u001b[33m\"\u001b[39m].value_counts()\n",
      "\u001b[31mNameError\u001b[39m: name 'article_df' is not defined"
     ]
    }
   ],
   "source": [
    "article_df[\"product_group_name\"].value_counts()"
   ]
  },
  {
   "cell_type": "code",
   "execution_count": 64,
   "id": "8c0dc0e6",
   "metadata": {},
   "outputs": [
    {
     "data": {
      "text/plain": [
       "detail_desc\n",
       "Socks in a soft, jacquard-knit cotton blend with elasticated tops.                                                                                          70\n",
       "Round-necked T-shirt in soft cotton jersey.                                                                                                                 31\n",
       "Fully lined bikini bottoms with a mid waist and medium coverage at the back.                                                                                28\n",
       "5-pocket jeans in washed, superstretch denim with a regular waist, zip fly and button, and skinny legs.                                                     26\n",
       "Socks in a soft, fine-knit cotton blend with elasticated tops.                                                                                              26\n",
       "                                                                                                                                                            ..\n",
       "Short lace dress with a V-neck front and back, a concealed zip at the back and long sleeves. Seam at the waist and a gently flared skirt. Jersey lining.     1\n",
       "3/4-length dungarees in washed cotton denim with adjustable straps that fasten at the front. Side pockets, a zip fly and wide, straight legs.                1\n",
       "Fitted body in sturdy, ribbed jersey with a sheen. V-neck, decorative, crossover lace straps at the front and press-studs at the crotch.                     1\n",
       "Ankle-length trousers in soft jersey. Regular waist with covered elastication and wide, straight legs.                                                       1\n",
       "Socks in a fine-knit cotton blend with a small motif at the top and elasticated tops.                                                                        1\n",
       "Name: count, Length: 9209, dtype: int64"
      ]
     },
     "execution_count": 64,
     "metadata": {},
     "output_type": "execute_result"
    }
   ],
   "source": [
    "article_df[\"detail_desc\"].value_counts()"
   ]
  },
  {
   "cell_type": "code",
   "execution_count": 63,
   "id": "2e4c6215",
   "metadata": {},
   "outputs": [
    {
     "data": {
      "text/plain": [
       "garment_group_name\n",
       "Jersey Fancy                     2999\n",
       "Accessories                      1874\n",
       "Jersey Basic                     1562\n",
       "Trousers                         1441\n",
       "Blouses                          1380\n",
       "Under-, Nightwear                1353\n",
       "Knitwear                         1117\n",
       "Dresses Ladies                   1063\n",
       "Trousers Denim                    751\n",
       "Outdoor                           724\n",
       "Swimwear                          641\n",
       "Shoes                             601\n",
       "Socks and Tights                  515\n",
       "Skirts                            329\n",
       "Unknown                           314\n",
       "Shirts                            258\n",
       "Shorts                            240\n",
       "Dressed                           208\n",
       "Woven/Jersey/Knitted mix Baby     164\n",
       "Special Offers                     87\n",
       "Dresses/Skirts girls               80\n",
       "Name: count, dtype: int64"
      ]
     },
     "execution_count": 63,
     "metadata": {},
     "output_type": "execute_result"
    }
   ],
   "source": [
    "article_df[\"garment_group_name\"].value_counts()"
   ]
  },
  {
   "cell_type": "code",
   "execution_count": 62,
   "id": "a6c9de74",
   "metadata": {},
   "outputs": [
    {
     "data": {
      "text/plain": [
       "garment_group_no\n",
       "1005    2999\n",
       "1019    1874\n",
       "1002    1562\n",
       "1009    1441\n",
       "1010    1380\n",
       "1017    1353\n",
       "1003    1117\n",
       "1013    1063\n",
       "1016     751\n",
       "1007     724\n",
       "1018     641\n",
       "1020     601\n",
       "1021     515\n",
       "1012     329\n",
       "1001     314\n",
       "1011     258\n",
       "1025     240\n",
       "1008     208\n",
       "1006     164\n",
       "1023      87\n",
       "1014      80\n",
       "Name: count, dtype: int64"
      ]
     },
     "execution_count": 62,
     "metadata": {},
     "output_type": "execute_result"
    }
   ],
   "source": [
    "article_df[\"garment_group_no\"].value_counts()"
   ]
  },
  {
   "cell_type": "code",
   "execution_count": 61,
   "id": "5ed0a5b7",
   "metadata": {},
   "outputs": [
    {
     "data": {
      "text/plain": [
       "section_name\n",
       "Womens Everyday Collection        1853\n",
       "Divided Collection                1575\n",
       "Womens Tailoring                   973\n",
       "Womens Small accessories           905\n",
       "Womens Lingerie                    832\n",
       "Womens Swimwear, beachwear         605\n",
       "Men Underwear                      603\n",
       "Womens Casual                      600\n",
       "Womens Trend                       547\n",
       "Womens Nightwear, Socks & Tigh     507\n",
       "Divided Basics                     465\n",
       "Baby Essentials & Complements      451\n",
       "H&M+                               450\n",
       "Ladies Denim                       426\n",
       "Womens Shoes                       418\n",
       "Mama                               412\n",
       "Womens Everyday Basics             410\n",
       "Ladies H&M Sport                   407\n",
       "Divided Projects                   349\n",
       "Womens Big accessories             324\n",
       "Contemporary Smart                 313\n",
       "Kids Girl                          276\n",
       "Young Girl                         269\n",
       "Divided Accessories                264\n",
       "Kids Boy                           244\n",
       "Girls Underwear & Basics           233\n",
       "Womens Jackets                     228\n",
       "Men Suits & Tailoring              216\n",
       "Contemporary Street                213\n",
       "Contemporary Casual                212\n",
       "Boys Underwear & Basics            203\n",
       "Young Boy                          200\n",
       "Womens Premium                     174\n",
       "Baby Boy                           170\n",
       "Kids Outerwear                     162\n",
       "Men Accessories                    162\n",
       "Denim Men                          155\n",
       "Baby Girl                          142\n",
       "Men H&M Sport                      130\n",
       "Divided Selected                   126\n",
       "Kids & Baby Shoes                  117\n",
       "Mens Outerwear                      90\n",
       "Kids Accessories, Swimwear & D      68\n",
       "Special Collections                 56\n",
       "Men Shoes                           48\n",
       "Divided Asia keys                   47\n",
       "Kids Sports                         30\n",
       "Collaborations                      19\n",
       "Divided Complements Other           12\n",
       "Men Other                            5\n",
       "Men Project                          4\n",
       "Ladies Other                         1\n",
       "Name: count, dtype: int64"
      ]
     },
     "execution_count": 61,
     "metadata": {},
     "output_type": "execute_result"
    }
   ],
   "source": [
    "article_df[\"section_name\"].value_counts()"
   ]
  },
  {
   "cell_type": "code",
   "execution_count": 60,
   "id": "7e5f6e2d",
   "metadata": {},
   "outputs": [
    {
     "data": {
      "text/plain": [
       "section_no\n",
       "15    1853\n",
       "53    1575\n",
       "11     973\n",
       "66     905\n",
       "61     832\n",
       "60     605\n",
       "26     603\n",
       "6      600\n",
       "18     547\n",
       "62     507\n",
       "51     465\n",
       "44     451\n",
       "2      450\n",
       "57     426\n",
       "64     418\n",
       "8      412\n",
       "16     410\n",
       "5      407\n",
       "50     349\n",
       "65     324\n",
       "20     313\n",
       "76     276\n",
       "77     269\n",
       "52     264\n",
       "46     244\n",
       "79     233\n",
       "19     228\n",
       "23     216\n",
       "55     213\n",
       "21     212\n",
       "72     203\n",
       "47     200\n",
       "14     174\n",
       "41     170\n",
       "45     162\n",
       "25     162\n",
       "56     155\n",
       "40     142\n",
       "22     130\n",
       "58     126\n",
       "42     117\n",
       "31      90\n",
       "43      68\n",
       "82      56\n",
       "27      48\n",
       "70      47\n",
       "49      30\n",
       "97      19\n",
       "80      12\n",
       "29       5\n",
       "24       4\n",
       "4        1\n",
       "Name: count, dtype: int64"
      ]
     },
     "execution_count": 60,
     "metadata": {},
     "output_type": "execute_result"
    }
   ],
   "source": [
    "article_df[\"section_no\"].value_counts()"
   ]
  },
  {
   "cell_type": "code",
   "execution_count": 59,
   "id": "67d675b0",
   "metadata": {},
   "outputs": [
    {
     "data": {
      "text/plain": [
       "index_group_name\n",
       "Ladieswear       9381\n",
       "Divided          3197\n",
       "Baby/Children    2535\n",
       "Menswear         2021\n",
       "Sport             567\n",
       "Name: count, dtype: int64"
      ]
     },
     "execution_count": 59,
     "metadata": {},
     "output_type": "execute_result"
    }
   ],
   "source": [
    "article_df[\"index_group_name\"].value_counts()"
   ]
  },
  {
   "cell_type": "code",
   "execution_count": 58,
   "id": "fd96f165",
   "metadata": {},
   "outputs": [
    {
     "data": {
      "text/plain": [
       "index_group_no\n",
       "1     9381\n",
       "2     3197\n",
       "4     2535\n",
       "3     2021\n",
       "26     567\n",
       "Name: count, dtype: int64"
      ]
     },
     "execution_count": 58,
     "metadata": {},
     "output_type": "execute_result"
    }
   ],
   "source": [
    "article_df[\"index_group_no\"].value_counts()"
   ]
  },
  {
   "cell_type": "code",
   "execution_count": 57,
   "id": "8dacae45",
   "metadata": {},
   "outputs": [
    {
     "data": {
      "text/plain": [
       "index_code\n",
       "A    5916\n",
       "D    3197\n",
       "F    2021\n",
       "B    1818\n",
       "C    1647\n",
       "H     817\n",
       "G     803\n",
       "I     732\n",
       "S     567\n",
       "J     183\n",
       "Name: count, dtype: int64"
      ]
     },
     "execution_count": 57,
     "metadata": {},
     "output_type": "execute_result"
    }
   ],
   "source": [
    "article_df[\"index_code\"].value_counts()"
   ]
  },
  {
   "cell_type": "code",
   "execution_count": 56,
   "id": "bd8077d6",
   "metadata": {},
   "outputs": [
    {
     "data": {
      "text/plain": [
       "index_name\n",
       "Ladieswear                        5916\n",
       "Divided                           3197\n",
       "Menswear                          2021\n",
       "Lingeries/Tights                  1818\n",
       "Ladies Accessories                1647\n",
       "Children Sizes 92-140              817\n",
       "Baby Sizes 50-98                   803\n",
       "Children Sizes 134-170             732\n",
       "Sport                              567\n",
       "Children Accessories, Swimwear     183\n",
       "Name: count, dtype: int64"
      ]
     },
     "execution_count": 56,
     "metadata": {},
     "output_type": "execute_result"
    }
   ],
   "source": [
    "article_df[\"index_name\"].value_counts()"
   ]
  },
  {
   "cell_type": "code",
   "execution_count": 55,
   "id": "fc6f44da",
   "metadata": {},
   "outputs": [
    {
     "data": {
      "text/plain": [
       "department_no\n",
       "4242    605\n",
       "1643    414\n",
       "1676    401\n",
       "4344    376\n",
       "1636    368\n",
       "       ... \n",
       "5959      1\n",
       "5958      1\n",
       "5952      1\n",
       "4213      1\n",
       "1727      1\n",
       "Name: count, Length: 260, dtype: int64"
      ]
     },
     "execution_count": 55,
     "metadata": {},
     "output_type": "execute_result"
    }
   ],
   "source": [
    "article_df[\"department_no\"].value_counts()"
   ]
  },
  {
   "cell_type": "code",
   "execution_count": 54,
   "id": "4ac36560",
   "metadata": {},
   "outputs": [
    {
     "data": {
      "text/plain": [
       "department_name\n",
       "Jersey                        962\n",
       "Trouser                       745\n",
       "Blouse                        664\n",
       "Swimwear                      631\n",
       "Knitwear                      622\n",
       "                             ... \n",
       "Shoes Other                     1\n",
       "On Demand                       1\n",
       "Nursing                         1\n",
       "Divided+ inactive from s.1      1\n",
       "Test Ladies                     1\n",
       "Name: count, Length: 217, dtype: int64"
      ]
     },
     "execution_count": 54,
     "metadata": {},
     "output_type": "execute_result"
    }
   ],
   "source": [
    "article_df[\"department_name\"].value_counts()"
   ]
  },
  {
   "cell_type": "code",
   "execution_count": 53,
   "id": "433f9010",
   "metadata": {},
   "outputs": [
    {
     "data": {
      "text/plain": [
       "perceived_colour_master_name\n",
       "Black              4598\n",
       "Blue               2378\n",
       "White              2219\n",
       "Beige              1411\n",
       "Pink               1303\n",
       "Grey               1274\n",
       "Khaki green         610\n",
       "Metal               550\n",
       "Green               529\n",
       "Red                 496\n",
       "Yellow              492\n",
       "Orange              487\n",
       "Brown               455\n",
       "Mole                325\n",
       "Lilac Purple        227\n",
       "Turquoise           174\n",
       "Unknown             160\n",
       "undefined            11\n",
       "Yellowish Green       2\n",
       "Name: count, dtype: int64"
      ]
     },
     "execution_count": 53,
     "metadata": {},
     "output_type": "execute_result"
    }
   ],
   "source": [
    "article_df[\"perceived_colour_master_name\"].value_counts()"
   ]
  },
  {
   "cell_type": "code",
   "execution_count": 52,
   "id": "1837b58c",
   "metadata": {},
   "outputs": [
    {
     "data": {
      "text/plain": [
       "perceived_colour_master_id\n",
       " 5     4598\n",
       " 2     2378\n",
       " 9     2219\n",
       " 11    1411\n",
       " 4     1303\n",
       " 12    1274\n",
       " 20     610\n",
       " 15     550\n",
       " 19     529\n",
       " 18     496\n",
       " 8      492\n",
       " 3      487\n",
       " 13     455\n",
       " 1      325\n",
       " 6      227\n",
       " 7      174\n",
       "-1      160\n",
       " 14      11\n",
       " 10       2\n",
       "Name: count, dtype: int64"
      ]
     },
     "execution_count": 52,
     "metadata": {},
     "output_type": "execute_result"
    }
   ],
   "source": [
    "article_df[\"perceived_colour_master_id\"].value_counts()"
   ]
  },
  {
   "cell_type": "code",
   "execution_count": 51,
   "id": "52f6fd47",
   "metadata": {},
   "outputs": [
    {
     "data": {
      "text/plain": [
       "perceived_colour_value_name\n",
       "Dark            7189\n",
       "Dusty Light     3887\n",
       "Medium Dusty    2620\n",
       "Light           2500\n",
       "Bright           920\n",
       "Medium           574\n",
       "Undefined         11\n",
       "Name: count, dtype: int64"
      ]
     },
     "execution_count": 51,
     "metadata": {},
     "output_type": "execute_result"
    }
   ],
   "source": [
    "article_df[\"perceived_colour_value_name\"].value_counts()"
   ]
  },
  {
   "cell_type": "code",
   "execution_count": 50,
   "id": "6ea34555",
   "metadata": {},
   "outputs": [
    {
     "data": {
      "text/plain": [
       "perceived_colour_value_id\n",
       "4    7189\n",
       "1    3887\n",
       "2    2620\n",
       "3    2500\n",
       "5     920\n",
       "7     574\n",
       "6      11\n",
       "Name: count, dtype: int64"
      ]
     },
     "execution_count": 50,
     "metadata": {},
     "output_type": "execute_result"
    }
   ],
   "source": [
    "article_df[\"perceived_colour_value_id\"].value_counts()"
   ]
  },
  {
   "cell_type": "code",
   "execution_count": 36,
   "id": "2b40cd72",
   "metadata": {},
   "outputs": [
    {
     "data": {
      "text/plain": [
       "True"
      ]
     },
     "execution_count": 36,
     "metadata": {},
     "output_type": "execute_result"
    }
   ],
   "source": [
    "article_df[\"article_id\"].nunique() == len(article_df)"
   ]
  },
  {
   "cell_type": "code",
   "execution_count": 40,
   "id": "7fdb0717",
   "metadata": {},
   "outputs": [
    {
     "data": {
      "text/plain": [
       "17701"
      ]
     },
     "execution_count": 40,
     "metadata": {},
     "output_type": "execute_result"
    }
   ],
   "source": [
    "article_df[\"article_id\"].nunique()"
   ]
  },
  {
   "cell_type": "code",
   "execution_count": 41,
   "id": "7bad8371",
   "metadata": {},
   "outputs": [
    {
     "data": {
      "text/plain": [
       "product_code\n",
       "783707    42\n",
       "685816    26\n",
       "562245    26\n",
       "599580    23\n",
       "706016    22\n",
       "          ..\n",
       "820016     1\n",
       "819866     1\n",
       "819836     1\n",
       "819509     1\n",
       "953450     1\n",
       "Name: count, Length: 9658, dtype: int64"
      ]
     },
     "execution_count": 41,
     "metadata": {},
     "output_type": "execute_result"
    }
   ],
   "source": [
    "article_df[\"product_code\"].value_counts()"
   ]
  },
  {
   "cell_type": "code",
   "execution_count": 42,
   "id": "b9fb5774",
   "metadata": {},
   "outputs": [
    {
     "data": {
      "text/plain": [
       "prod_name\n",
       "1pk Fun                   40\n",
       "Luna skinny RW            23\n",
       "Timeless Midrise Brief    23\n",
       "Shake it in Balconette    20\n",
       "Brit Baby Tee             20\n",
       "                          ..\n",
       "ORVAR romper set           1\n",
       "CNY EQ Celeste             1\n",
       "CNY Demi fur               1\n",
       "CNY Greta PU shirt         1\n",
       "5pk regular Placement1     1\n",
       "Name: count, Length: 9946, dtype: int64"
      ]
     },
     "execution_count": 42,
     "metadata": {},
     "output_type": "execute_result"
    }
   ],
   "source": [
    "article_df[\"prod_name\"].value_counts()"
   ]
  },
  {
   "cell_type": "code",
   "execution_count": 43,
   "id": "8594b295",
   "metadata": {},
   "outputs": [
    {
     "data": {
      "text/plain": [
       "product_type_no\n",
       "272    2367\n",
       "265    1978\n",
       "252    1320\n",
       "255    1090\n",
       "254     817\n",
       "       ... \n",
       "762       1\n",
       "303       1\n",
       "515       1\n",
       "492       1\n",
       "491       1\n",
       "Name: count, Length: 114, dtype: int64"
      ]
     },
     "execution_count": 43,
     "metadata": {},
     "output_type": "execute_result"
    }
   ],
   "source": [
    "article_df[\"product_type_no\"].value_counts()"
   ]
  },
  {
   "cell_type": "code",
   "execution_count": 44,
   "id": "8e203b60",
   "metadata": {},
   "outputs": [
    {
     "data": {
      "text/plain": [
       "product_type_name\n",
       "Trousers               2367\n",
       "Dress                  1978\n",
       "Sweater                1320\n",
       "T-shirt                1090\n",
       "Top                     817\n",
       "                       ... \n",
       "Bra extender              1\n",
       "Moccasins                 1\n",
       "Toy                       1\n",
       "Marker pen                1\n",
       "Stain remover spray       1\n",
       "Name: count, Length: 113, dtype: int64"
      ]
     },
     "execution_count": 44,
     "metadata": {},
     "output_type": "execute_result"
    }
   ],
   "source": [
    "article_df[\"product_type_name\"].value_counts()"
   ]
  },
  {
   "cell_type": "code",
   "execution_count": 46,
   "id": "4213e32e",
   "metadata": {},
   "outputs": [
    {
     "data": {
      "text/plain": [
       "graphical_appearance_no\n",
       "1010016    9812\n",
       "1010001    2105\n",
       "1010023    1266\n",
       "1010010    1045\n",
       "1010017     583\n",
       "1010004     388\n",
       "1010026     383\n",
       "1010014     292\n",
       "1010008     242\n",
       "1010007     202\n",
       "1010021     202\n",
       "1010005     200\n",
       "1010006     129\n",
       "1010012     120\n",
       "1010009     119\n",
       "1010002     111\n",
       "1010022      99\n",
       "1010018      65\n",
       "1010011      64\n",
       "1010015      61\n",
       "1010020      55\n",
       "1010013      50\n",
       "1010028      34\n",
       "1010019      22\n",
       "1010024      20\n",
       "1010025      18\n",
       "1010027      10\n",
       "1010029       3\n",
       "1010003       1\n",
       "Name: count, dtype: int64"
      ]
     },
     "execution_count": 46,
     "metadata": {},
     "output_type": "execute_result"
    }
   ],
   "source": [
    "article_df[\"graphical_appearance_no\"].value_counts()"
   ]
  },
  {
   "cell_type": "code",
   "execution_count": 47,
   "id": "a41ab8c5",
   "metadata": {},
   "outputs": [
    {
     "data": {
      "text/plain": [
       "graphical_appearance_name\n",
       "Solid                  9812\n",
       "All over pattern       2105\n",
       "Denim                  1266\n",
       "Melange                1045\n",
       "Stripe                  583\n",
       "Check                   388\n",
       "Other structure         383\n",
       "Placement print         292\n",
       "Front print             242\n",
       "Embroidery              202\n",
       "Lace                    202\n",
       "Colour blocking         200\n",
       "Dot                     129\n",
       "Mixed solid/pattern     120\n",
       "Glittering/Metallic     119\n",
       "Application/3D          111\n",
       "Jacquard                 99\n",
       "Treatment                65\n",
       "Metallic                 64\n",
       "Sequin                   61\n",
       "Contrast                 55\n",
       "Other pattern            50\n",
       "Mesh                     34\n",
       "Transparent              22\n",
       "Chambray                 20\n",
       "Slub                     18\n",
       "Neps                     10\n",
       "Hologram                  3\n",
       "Argyle                    1\n",
       "Name: count, dtype: int64"
      ]
     },
     "execution_count": 47,
     "metadata": {},
     "output_type": "execute_result"
    }
   ],
   "source": [
    "article_df[\"graphical_appearance_name\"].value_counts()"
   ]
  },
  {
   "cell_type": "code",
   "execution_count": 48,
   "id": "7819bd20",
   "metadata": {},
   "outputs": [
    {
     "data": {
      "text/plain": [
       "colour_group_code\n",
       "9     4595\n",
       "10    1644\n",
       "73    1284\n",
       "12     786\n",
       "13     747\n",
       "51     738\n",
       "72     599\n",
       "7      589\n",
       "11     535\n",
       "19     494\n",
       "8      494\n",
       "71     486\n",
       "52     387\n",
       "5      365\n",
       "17     322\n",
       "93     315\n",
       "43     269\n",
       "22     269\n",
       "6      261\n",
       "31     253\n",
       "14     227\n",
       "42     187\n",
       "3      179\n",
       "92     171\n",
       "33     170\n",
       "32     155\n",
       "21     151\n",
       "61     140\n",
       "53     124\n",
       "91     110\n",
       "81     101\n",
       "23      85\n",
       "15      66\n",
       "50      62\n",
       "62      54\n",
       "82      53\n",
       "83      53\n",
       "63      44\n",
       "20      33\n",
       "30      28\n",
       "90      19\n",
       "41      14\n",
       "1       11\n",
       "40      10\n",
       "60       7\n",
       "4        6\n",
       "2        5\n",
       "70       4\n",
       "Name: count, dtype: int64"
      ]
     },
     "execution_count": 48,
     "metadata": {},
     "output_type": "execute_result"
    }
   ],
   "source": [
    "article_df[\"colour_group_code\"].value_counts()"
   ]
  },
  {
   "cell_type": "code",
   "execution_count": 49,
   "id": "43b6b6be",
   "metadata": {},
   "outputs": [
    {
     "data": {
      "text/plain": [
       "colour_group_name\n",
       "Black              4595\n",
       "White              1644\n",
       "Dark Blue          1284\n",
       "Light Beige         786\n",
       "Beige               747\n",
       "Light Pink          738\n",
       "Blue                599\n",
       "Grey                589\n",
       "Off White           535\n",
       "Greenish Khaki      494\n",
       "Dark Grey           494\n",
       "Light Blue          486\n",
       "Pink                387\n",
       "Gold                365\n",
       "Yellowish Brown     322\n",
       "Dark Green          315\n",
       "Dark Red            269\n",
       "Yellow              269\n",
       "Light Grey          261\n",
       "Light Orange        253\n",
       "Dark Beige          227\n",
       "Red                 187\n",
       "Silver              179\n",
       "Green               171\n",
       "Dark Orange         170\n",
       "Orange              155\n",
       "Light Yellow        151\n",
       "Light Purple        140\n",
       "Dark Pink           124\n",
       "Light Green         110\n",
       "Light Turquoise     101\n",
       "Dark Yellow          85\n",
       "Greyish Beige        66\n",
       "Other Pink           62\n",
       "Purple               54\n",
       "Turquoise            53\n",
       "Dark Turquoise       53\n",
       "Dark Purple          44\n",
       "Other Yellow         33\n",
       "Other Orange         28\n",
       "Other Green          19\n",
       "Light Red            14\n",
       "Other                11\n",
       "Other Red            10\n",
       "Other Purple          7\n",
       "Bronze/Copper         6\n",
       "Transparent           5\n",
       "Other Blue            4\n",
       "Name: count, dtype: int64"
      ]
     },
     "execution_count": 49,
     "metadata": {},
     "output_type": "execute_result"
    }
   ],
   "source": [
    "article_df[\"colour_group_name\"].value_counts()"
   ]
  },
  {
   "cell_type": "code",
   "execution_count": null,
   "id": "08a04606",
   "metadata": {},
   "outputs": [],
   "source": []
  }
 ],
 "metadata": {
  "kernelspec": {
   "display_name": "handm-v2",
   "language": "python",
   "name": "python3"
  },
  "language_info": {
   "codemirror_mode": {
    "name": "ipython",
    "version": 3
   },
   "file_extension": ".py",
   "mimetype": "text/x-python",
   "name": "python",
   "nbconvert_exporter": "python",
   "pygments_lexer": "ipython3",
   "version": "3.13.2"
  }
 },
 "nbformat": 4,
 "nbformat_minor": 5
}
